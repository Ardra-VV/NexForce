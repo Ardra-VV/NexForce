{
  "nbformat": 4,
  "nbformat_minor": 0,
  "metadata": {
    "colab": {
      "provenance": [],
      "mount_file_id": "1RhGkfoC8_vnWOmDHtUNgWeFATS1UrmxP",
      "authorship_tag": "ABX9TyPvvIBn9QymW7QOvE90Bm6R",
      "include_colab_link": true
    },
    "kernelspec": {
      "name": "python3",
      "display_name": "Python 3"
    },
    "language_info": {
      "name": "python"
    }
  },
  "cells": [
    {
      "cell_type": "markdown",
      "metadata": {
        "id": "view-in-github",
        "colab_type": "text"
      },
      "source": [
        "<a href=\"https://colab.research.google.com/github/Ardra-VV/NexForce/blob/main/NexForce.ipynb\" target=\"_parent\"><img src=\"https://colab.research.google.com/assets/colab-badge.svg\" alt=\"Open In Colab\"/></a>"
      ]
    },
    {
      "cell_type": "code",
      "execution_count": 1,
      "metadata": {
        "id": "kyBvIN_TBcOM"
      },
      "outputs": [],
      "source": [
        "import pandas as pd"
      ]
    },
    {
      "cell_type": "code",
      "source": [
        "path=\"/content/drive/MyDrive/Dataset/archive.zip\"\n",
        "df=pd.read_csv(path)\n",
        "median_h=df[\"Height(Inches)\"].median()\n",
        "median_w=df[\"Weight(Pounds)\"].median()\n",
        "print(\"median of height:\",median_h)\n",
        "print(\"median of weight:\",median_w)\n",
        "mode_h=df[\"Height(Inches)\"].mode()\n",
        "mode_w=df[\"Weight(Pounds)\"].mode()\n",
        "print(\"mode of height:\\n\",mode_h)\n",
        "print(\"mode of weight:\",mode_w)\n",
        "mean_h=df[\"Height(Inches)\"].mean()\n",
        "mean_w=df[\"Weight(Pounds)\"].mean()\n",
        "print(\"mean of height:\",mean_h)\n",
        "print(\"mean of weight:\",mean_w)\n",
        "\n",
        "\n"
      ],
      "metadata": {
        "colab": {
          "base_uri": "https://localhost:8080/"
        },
        "id": "X5ogVoTXB1hQ",
        "outputId": "c94f200a-3f0f-4598-a8b5-07cd667253f3"
      },
      "execution_count": 6,
      "outputs": [
        {
          "output_type": "stream",
          "name": "stdout",
          "text": [
            "median of height: 67.9957\n",
            "median of weight: 127.15775\n",
            "mode of height:\n",
            " 0     65.65796\n",
            "1     67.34629\n",
            "2     67.41672\n",
            "3     67.94061\n",
            "4     67.97769\n",
            "5     67.98509\n",
            "6     68.30287\n",
            "7     68.92380\n",
            "8     68.93456\n",
            "9     68.97830\n",
            "10    70.04724\n",
            "Name: Height(Inches), dtype: float64\n",
            "mode of weight: 0    124.7975\n",
            "Name: Weight(Pounds), dtype: float64\n",
            "mean of height: 67.99311359679999\n",
            "mean of weight: 127.07942116080001\n"
          ]
        }
      ]
    }
  ]
}